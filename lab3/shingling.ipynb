{
 "cells": [
  {
   "cell_type": "code",
   "execution_count": 1,
   "metadata": {},
   "outputs": [],
   "source": [
    "import re, nltk\n",
    "import numpy as np"
   ]
  },
  {
   "cell_type": "code",
   "execution_count": 3,
   "metadata": {},
   "outputs": [],
   "source": [
    "with open(\"resources/summa.txt\", encoding=\"utf8\") as myfile:\n",
    "    file1 = \" \".join(line.rstrip() for line in myfile)\n",
    "    \n",
    "with open(\"resources/summa2.txt\", encoding=\"utf8\") as myfile:\n",
    "    file2 = \" \".join(line.rstrip() for line in myfile)"
   ]
  },
  {
   "cell_type": "code",
   "execution_count": 4,
   "metadata": {},
   "outputs": [],
   "source": [
    "def clean(data):\n",
    "    text = re.sub(r\"[^a-zA-Z]+\", \" \", data)\n",
    "    text = re.sub(r\"^.*?(?=(QUESTION))\", \"\", text)\n",
    "    text = re.sub(r\"(?<=(FOR EVER BLESSED Amen)).+\", '', text)\n",
    "    text = re.sub(r\"ON FATE\", \"QUESTION\", text)\n",
    "    \n",
    "    return text\n",
    "\n",
    "\n",
    "def chapters_split(data):\n",
    "    chapters = []\n",
    "    chap = []\n",
    "\n",
    "    cleaned = clean(data).split(\" \")\n",
    "\n",
    "    for i, word in enumerate(cleaned):\n",
    "\n",
    "        if (word == \"QUESTION\") or (i==len(cleaned)-1):\n",
    "            chapters.append(' '.join(chap))\n",
    "            chap = []\n",
    "\n",
    "        else:\n",
    "            chap.append(word)\n",
    "\n",
    "    chapters = [chap for chap in chapters[1:]]\n",
    "    \n",
    "    return chapters"
   ]
  },
  {
   "cell_type": "code",
   "execution_count": 5,
   "metadata": {},
   "outputs": [],
   "source": [
    "def text_split(data, stopWords):\n",
    "    text = re.sub(r\"[^\\w]+\", \" \", data).split(\" \")\n",
    "    \n",
    "    words = [word.lower() for word in text if word not in stopWords and len(word) > 1 and word[0] != \"'\"]\n",
    "                \n",
    "    return words\n",
    "\n",
    "\n",
    "def shingles(file1, file2, k, stopWords):\n",
    "    \n",
    "    f1_words = text_split(file1, stopWords)\n",
    "    f2_words = text_split(file2, stopWords)\n",
    "    \n",
    "    f1_shingles = set(tuple(f1_words[i:i+k]) for i in range(len(f1_words)-k+1))\n",
    "    f2_shingles = set(tuple(f2_words[i:i+k]) for i in range(len(f2_words)-k+1))\n",
    "    \n",
    "    return f1_shingles, f2_shingles\n",
    "\n",
    "\n",
    "def jaccard(f1, f2, k, stopWords):\n",
    "    \n",
    "    (f1_shingles, f2_shingles) = shingles(f1, f2, k, stopWords)\n",
    "    \n",
    "    intersection = f1_shingles.intersection(f2_shingles)\n",
    "    union = f1_shingles.union(f2_shingles)\n",
    "        \n",
    "    return 1 - len(intersection)/len(union)\n"
   ]
  },
  {
   "cell_type": "code",
   "execution_count": 7,
   "metadata": {},
   "outputs": [],
   "source": [
    "stopWords = set(nltk.corpus.stopwords.words('english'))"
   ]
  },
  {
   "cell_type": "markdown",
   "metadata": {},
   "source": [
    "# 1a"
   ]
  },
  {
   "cell_type": "code",
   "execution_count": 8,
   "metadata": {},
   "outputs": [
    {
     "data": {
      "text/plain": [
       "0.9959429683339193"
      ]
     },
     "execution_count": 8,
     "metadata": {},
     "output_type": "execute_result"
    }
   ],
   "source": [
    "f1 = clean(file1)\n",
    "f2 = clean(file2)\n",
    "\n",
    "jaccard(f1, f2, 4, stopWords)"
   ]
  },
  {
   "cell_type": "markdown",
   "metadata": {},
   "source": [
    "# 1b"
   ]
  },
  {
   "cell_type": "code",
   "execution_count": 9,
   "metadata": {},
   "outputs": [],
   "source": [
    "chapters = chapters_split(file1)\n",
    "# stopWords = set()"
   ]
  },
  {
   "cell_type": "code",
   "execution_count": 10,
   "metadata": {},
   "outputs": [],
   "source": [
    "JDDS = []\n",
    "for i in range(len(chapters)-1):\n",
    "    JDDS.append([])\n",
    "    for j in range(i+1,len(chapters)):\n",
    "        JD = jaccard(chapters[i], chapters[j], 7, stopWords)\n",
    "        JDDS[i].append(JD)\n",
    "#         print(\"Chapters {} and {} distance: {}\".format(i, j, JD))"
   ]
  },
  {
   "cell_type": "markdown",
   "metadata": {},
   "source": [
    "# Task2"
   ]
  },
  {
   "cell_type": "code",
   "execution_count": null,
   "metadata": {},
   "outputs": [],
   "source": []
  }
 ],
 "metadata": {
  "kernelspec": {
   "display_name": "Python 3",
   "language": "python",
   "name": "python3"
  },
  "language_info": {
   "codemirror_mode": {
    "name": "ipython",
    "version": 3
   },
   "file_extension": ".py",
   "mimetype": "text/x-python",
   "name": "python",
   "nbconvert_exporter": "python",
   "pygments_lexer": "ipython3",
   "version": "3.7.3"
  }
 },
 "nbformat": 4,
 "nbformat_minor": 2
}
