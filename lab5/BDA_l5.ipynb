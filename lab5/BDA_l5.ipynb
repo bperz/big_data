{
  "nbformat": 4,
  "nbformat_minor": 0,
  "metadata": {
    "colab": {
      "name": "BDA-l5.ipynb",
      "provenance": [],
      "collapsed_sections": [],
      "include_colab_link": true
    },
    "kernelspec": {
      "name": "python3",
      "display_name": "Python 3"
    }
  },
  "cells": [
    {
      "cell_type": "markdown",
      "metadata": {
        "id": "view-in-github",
        "colab_type": "text"
      },
      "source": [
        "<a href=\"https://colab.research.google.com/github/bperz/big_data/blob/master/lab5/BDA_l5.ipynb\" target=\"_parent\"><img src=\"https://colab.research.google.com/assets/colab-badge.svg\" alt=\"Open In Colab\"/></a>"
      ]
    },
    {
      "cell_type": "code",
      "metadata": {
        "id": "qEQotJiRm7Lr",
        "colab_type": "code",
        "colab": {}
      },
      "source": [
        "from google.colab import drive\n",
        "drive.mount('/gdrive')\n",
        "\n",
        "%cd /gdrive/My\\ Drive\n",
        "%cd BDA\\ resources"
      ],
      "execution_count": 0,
      "outputs": []
    },
    {
      "cell_type": "code",
      "metadata": {
        "id": "BX-zE9iyhRDm",
        "colab_type": "code",
        "colab": {}
      },
      "source": [
        "!apt-get install openjdk-8-jdk-headless -qq > /dev/null\n",
        "#!wget -q http://www-eu.apache.org/dist/spark/spark-2.4.4/spark-2.4.4-bin-hadoop2.7.tgz\n",
        "!tar xf spark-2.4.4-bin-hadoop2.7.tgz\n",
        "!pip install -q findspark"
      ],
      "execution_count": 0,
      "outputs": []
    },
    {
      "cell_type": "code",
      "metadata": {
        "id": "lswa7B06hSsV",
        "colab_type": "code",
        "colab": {}
      },
      "source": [
        "import os\n",
        "os.environ[\"JAVA_HOME\"] = \"/usr/lib/jvm/java-8-openjdk-amd64\"\n",
        "os.environ[\"SPARK_HOME\"] = \"/content/spark-2.4.4-bin-hadoop2.7\""
      ],
      "execution_count": 0,
      "outputs": []
    },
    {
      "cell_type": "code",
      "metadata": {
        "id": "e0urONwIhcca",
        "colab_type": "code",
        "colab": {}
      },
      "source": [
        "import findspark\n",
        "findspark.init(\"spark-2.4.4-bin-hadoop2.7\")# SPARK_HOME\n",
        "# findspark.init(\"/gdrive/My\\ Drive/BDA\\ resources\")\n",
        "from pyspark import SparkContext\n",
        "from pyspark.sql import SparkSession\n",
        "spark = SparkSession.builder.master(\"local[*]\").getOrCreate()\n",
        "sc = SparkContext.getOrCreate()"
      ],
      "execution_count": 0,
      "outputs": []
    },
    {
      "cell_type": "code",
      "metadata": {
        "id": "OZsNQ-m8sChZ",
        "colab_type": "code",
        "colab": {}
      },
      "source": [
        "import re, nltk\n",
        "nltk.download('stopwords')"
      ],
      "execution_count": 0,
      "outputs": []
    },
    {
      "cell_type": "markdown",
      "metadata": {
        "id": "FEeVJjkwCEWE",
        "colab_type": "text"
      },
      "source": [
        "# Task 1"
      ]
    },
    {
      "cell_type": "code",
      "metadata": {
        "id": "QMRTDKsy8MJa",
        "colab_type": "code",
        "colab": {}
      },
      "source": [
        "graph = [\n",
        "[1, [3,4,5]],\n",
        "[2, [1,3]],\n",
        "[3, [4,5]],\n",
        "[4, [1,2]],\n",
        "[5, [4,5]]\n",
        "]\n"
      ],
      "execution_count": 0,
      "outputs": []
    },
    {
      "cell_type": "code",
      "metadata": {
        "id": "kLag3HZM8T2K",
        "colab_type": "code",
        "colab": {}
      },
      "source": [
        "graph"
      ],
      "execution_count": 0,
      "outputs": []
    },
    {
      "cell_type": "code",
      "metadata": {
        "id": "KH8t2QYI8Uoh",
        "colab_type": "code",
        "colab": {}
      },
      "source": [
        "data = sc.parallelize(graph)"
      ],
      "execution_count": 0,
      "outputs": []
    },
    {
      "cell_type": "code",
      "metadata": {
        "id": "ftRuaj-W8Z2E",
        "colab_type": "code",
        "colab": {}
      },
      "source": [
        "data.take(2)"
      ],
      "execution_count": 0,
      "outputs": []
    },
    {
      "cell_type": "code",
      "metadata": {
        "id": "ywuwkvqQ8b3z",
        "colab_type": "code",
        "colab": {}
      },
      "source": [
        "mapped = data.flatMap(lambda x: [[i, [x[0]]] for i in x[1]])"
      ],
      "execution_count": 0,
      "outputs": []
    },
    {
      "cell_type": "code",
      "metadata": {
        "id": "Y7pwa1BU9Czk",
        "colab_type": "code",
        "colab": {}
      },
      "source": [
        "reduced = mapped.reduceByKey(lambda acc, n: acc+n).sortByKey().map(lambda x: list(x))"
      ],
      "execution_count": 0,
      "outputs": []
    },
    {
      "cell_type": "code",
      "metadata": {
        "id": "NbmFCmTH90Be",
        "colab_type": "code",
        "colab": {}
      },
      "source": [
        "reduced.take(5)"
      ],
      "execution_count": 0,
      "outputs": []
    },
    {
      "cell_type": "markdown",
      "metadata": {
        "id": "1MXQVrhTCGs3",
        "colab_type": "text"
      },
      "source": [
        "# Task 2"
      ]
    },
    {
      "cell_type": "code",
      "metadata": {
        "id": "sid2j9AdH1V7",
        "colab_type": "code",
        "colab": {}
      },
      "source": [
        "def tuple_sum(tuple1, tuple2):\n",
        "  return (tuple1[0]+tuple2[0], tuple1[1]+tuple2[1])"
      ],
      "execution_count": 0,
      "outputs": []
    },
    {
      "cell_type": "code",
      "metadata": {
        "id": "zvFMKe75leKD",
        "colab_type": "code",
        "colab": {}
      },
      "source": [
        "graph = []\n",
        "with open('web-Stanford.txt') as file:\n",
        "  for line in file:\n",
        "    line_list = line.split()\n",
        "    graph.append((int(line_list[0]), int(line_list[1])))\n",
        "\n",
        "graph[:10]"
      ],
      "execution_count": 0,
      "outputs": []
    },
    {
      "cell_type": "markdown",
      "metadata": {
        "id": "iw-d6DHXlFzk",
        "colab_type": "text"
      },
      "source": [
        "test graph"
      ]
    },
    {
      "cell_type": "code",
      "metadata": {
        "id": "RXgUvENt91nE",
        "colab_type": "code",
        "colab": {}
      },
      "source": [
        "# graph = [(3, 1),\n",
        "#  (4, 1),\n",
        "#  (5, 1),\n",
        "#  (1, 2),\n",
        "#  (3, 2),\n",
        "#  (4, 3),\n",
        "#  (5, 3),\n",
        "#  (1, 4),\n",
        "#  (2, 4),\n",
        "#  (4, 5),\n",
        "#  (5, 5)]\n",
        "\n",
        "\n",
        "# graph = [(3, 1),\n",
        "#  (4, 1),\n",
        "#  (5, 1),\n",
        "#  (2, 1),\n",
        "#  (1, 1)]"
      ],
      "execution_count": 0,
      "outputs": []
    },
    {
      "cell_type": "code",
      "metadata": {
        "id": "JuBlYIVlCTsM",
        "colab_type": "code",
        "colab": {}
      },
      "source": [
        "data = sc.parallelize(graph)"
      ],
      "execution_count": 0,
      "outputs": []
    },
    {
      "cell_type": "code",
      "metadata": {
        "id": "A6-gQ1SiCiQE",
        "colab_type": "code",
        "colab": {}
      },
      "source": [
        "mapped = data.flatMap(lambda x: [(x[0], (0, 1)), (x[1], (1, 0))])"
      ],
      "execution_count": 0,
      "outputs": []
    },
    {
      "cell_type": "code",
      "metadata": {
        "id": "oPNd5PvXCnhN",
        "colab_type": "code",
        "colab": {}
      },
      "source": [
        "reduced = mapped.reduceByKey(tuple_sum).sortByKey()"
      ],
      "execution_count": 0,
      "outputs": []
    },
    {
      "cell_type": "code",
      "metadata": {
        "id": "gAqJa721FzZ1",
        "colab_type": "code",
        "colab": {}
      },
      "source": [
        "reduced.take(20)"
      ],
      "execution_count": 0,
      "outputs": []
    },
    {
      "cell_type": "markdown",
      "metadata": {
        "id": "m4uY9GSDJf4b",
        "colab_type": "text"
      },
      "source": [
        "count"
      ]
    },
    {
      "cell_type": "code",
      "metadata": {
        "id": "gvbc6HY5JgOn",
        "colab_type": "code",
        "colab": {}
      },
      "source": [
        "seqOp = (lambda local_result, list_element: [local_result[0]+1, \n",
        "                                             local_result[1]+list_element[1][0], \n",
        "                                             local_result[2]+list_element[1][1]])\n",
        "\n",
        "combOp = (lambda local_result_1, local_result_2: [local_result_1[0] + local_result_2[0],\n",
        "                                                  local_result_1[1] + local_result_2[1],\n",
        "                                                  local_result_1[2] + local_result_2[2]])"
      ],
      "execution_count": 0,
      "outputs": []
    },
    {
      "cell_type": "code",
      "metadata": {
        "id": "Tx6eqbwsKlD1",
        "colab_type": "code",
        "colab": {}
      },
      "source": [
        "agg = reduced.aggregate([0, 0, 0], seqOp, combOp)"
      ],
      "execution_count": 0,
      "outputs": []
    },
    {
      "cell_type": "code",
      "metadata": {
        "id": "5U36PpWpN5Fz",
        "colab_type": "code",
        "colab": {}
      },
      "source": [
        "agg"
      ],
      "execution_count": 0,
      "outputs": []
    },
    {
      "cell_type": "markdown",
      "metadata": {
        "id": "lhDEMA0mQPt6",
        "colab_type": "text"
      },
      "source": [
        "avg"
      ]
    },
    {
      "cell_type": "code",
      "metadata": {
        "id": "4Aa0urBbQOnU",
        "colab_type": "code",
        "colab": {}
      },
      "source": [
        "data = sc.parallelize(graph)"
      ],
      "execution_count": 0,
      "outputs": []
    },
    {
      "cell_type": "code",
      "metadata": {
        "id": "GUb0-33gQbkn",
        "colab_type": "code",
        "colab": {}
      },
      "source": [
        "mapped = data.map(lambda x: (x[0], 1))"
      ],
      "execution_count": 0,
      "outputs": []
    },
    {
      "cell_type": "code",
      "metadata": {
        "id": "OyTMvlG4QwhZ",
        "colab_type": "code",
        "colab": {}
      },
      "source": [
        "reduced = mapped.reduceByKey(lambda acc, n: acc+n)\n",
        "reduced.take(5)"
      ],
      "execution_count": 0,
      "outputs": []
    },
    {
      "cell_type": "code",
      "metadata": {
        "id": "4FzkPtuxRcIM",
        "colab_type": "code",
        "colab": {}
      },
      "source": [
        "seqOp = (lambda local_result, list_element: [local_result[0]+1, \n",
        "                                             local_result[1]*(local_result[0]/(local_result[0]+1))+list_element[1][0]/(local_result[0]+1)])\n",
        "\n",
        "combOp = (lambda local_result_1, local_result_2: [local_result_1[0] + local_result_2[0],\n",
        "                                                  local_result_1[1]*(local_result_1[0]/(local_result_1[0] + local_result_2[0])) + local_result_2[1]*(local_result_2[0]/(local_result_1[0] + local_result_2[0]))])\n",
        "          \n",
        "agg = reduced.aggregate([0, 0], seqOp, combOp)"
      ],
      "execution_count": 0,
      "outputs": []
    },
    {
      "cell_type": "code",
      "metadata": {
        "id": "Q8pSHMWnRkAG",
        "colab_type": "code",
        "outputId": "0201f6b9-366d-49c0-e092-f633bf79a4d7",
        "colab": {
          "base_uri": "https://localhost:8080/",
          "height": 34
        }
      },
      "source": [
        "agg"
      ],
      "execution_count": 0,
      "outputs": [
        {
          "output_type": "execute_result",
          "data": {
            "text/plain": [
              "[281903, 8.203165627893167]"
            ]
          },
          "metadata": {
            "tags": []
          },
          "execution_count": 249
        }
      ]
    },
    {
      "cell_type": "markdown",
      "metadata": {
        "id": "FwcbGTGIspFA",
        "colab_type": "text"
      },
      "source": [
        "Task 3"
      ]
    },
    {
      "cell_type": "markdown",
      "metadata": {
        "id": "BCcxlgpUmnLE",
        "colab_type": "text"
      },
      "source": [
        "you can try ignoring leafs by giving them -1 while calculating mean (0 is also an information)\n"
      ]
    },
    {
      "cell_type": "code",
      "metadata": {
        "id": "paumD2_ju7c4",
        "colab_type": "code",
        "colab": {}
      },
      "source": [
        "import time\n",
        "start = time.time()"
      ],
      "execution_count": 0,
      "outputs": []
    },
    {
      "cell_type": "code",
      "metadata": {
        "id": "GKc9275276jK",
        "colab_type": "code",
        "colab": {}
      },
      "source": [
        "# def ordered_tuples(x):\n",
        "#   if x[0] < x[1]:\n",
        "#     return (x[0], x[1])\n",
        "#   elif x[0] > x[1]:\n",
        "#     return (x[1], x[0])\n",
        "#   else:\n",
        "#     return ()\n",
        "\n",
        "def ordered_tuples(x):\n",
        "  if x[0] != x[1]:\n",
        "    return [(x[0], [x[1]]), (x[1], [x[0]])]\n",
        "  else:\n",
        "    return ()"
      ],
      "execution_count": 0,
      "outputs": []
    },
    {
      "cell_type": "code",
      "metadata": {
        "id": "Nm1ITAMktCxY",
        "colab_type": "code",
        "colab": {}
      },
      "source": [
        "graph = [(3, 1),\n",
        " (4, 1),\n",
        " (5, 1),\n",
        " (1, 2),\n",
        " (3, 2),\n",
        " (4, 3),\n",
        " (5, 3),\n",
        " (1, 4),\n",
        " (2, 4),\n",
        " (4, 5),\n",
        " (5, 5)]"
      ],
      "execution_count": 0,
      "outputs": []
    },
    {
      "cell_type": "code",
      "metadata": {
        "id": "nPDR35j045_h",
        "colab_type": "code",
        "colab": {}
      },
      "source": [
        "data = sc.parallelize(graph)"
      ],
      "execution_count": 0,
      "outputs": []
    },
    {
      "cell_type": "code",
      "metadata": {
        "id": "3mkd-tbt48nP",
        "colab_type": "code",
        "colab": {}
      },
      "source": [
        "undirectedG = data.flatMap(ordered_tuples).filter(lambda x: x!=())"
      ],
      "execution_count": 0,
      "outputs": []
    },
    {
      "cell_type": "code",
      "metadata": {
        "id": "cbIkzPyu5BIi",
        "colab_type": "code",
        "colab": {}
      },
      "source": [
        "neighbours = undirectedG.reduceByKey(lambda agg, x: agg+x)\n",
        "neighbours = neighbours.map(lambda x: (x[0], set(x[1])))\n",
        "\n",
        "nghb_dict = neighbours.collectAsMap()"
      ],
      "execution_count": 0,
      "outputs": []
    },
    {
      "cell_type": "code",
      "metadata": {
        "id": "XQwxcgrJCYU0",
        "colab_type": "code",
        "colab": {}
      },
      "source": [
        "vertices_properties = neighbours.map(lambda x: (x[0], \n",
        "                          sum([len(nghb_dict[x[0]].intersection(nghb_dict[nghb]))/(len(x[1])*(len(x[1])-1)) for i, nghb in enumerate(x[1]) if len(nghb_dict[nghb]) > 1 and len(nghb_dict[x[0]]) > 1]),\n",
        "                          len(x[1])))"
      ],
      "execution_count": 0,
      "outputs": []
    },
    {
      "cell_type": "code",
      "metadata": {
        "id": "HTKq_20oO9ju",
        "colab_type": "code",
        "colab": {}
      },
      "source": [
        "vertices_properties.take(5)"
      ],
      "execution_count": 0,
      "outputs": []
    },
    {
      "cell_type": "code",
      "metadata": {
        "id": "vc-KxdupiE63",
        "colab_type": "code",
        "colab": {}
      },
      "source": [
        "seqOp = (lambda local_result, list_element: [local_result[0]+1, \n",
        "                                             local_result[1]*(local_result[0]/(local_result[0]+1))+list_element[1]/(local_result[0]+1)])\n",
        "\n",
        "combOp = (lambda local_result_1, local_result_2: [local_result_1[0] + local_result_2[0],\n",
        "                                                  local_result_1[1]*(local_result_1[0]/(local_result_1[0] + local_result_2[0])) + local_result_2[1]*(local_result_2[0]/(local_result_1[0] + local_result_2[0]))])\n",
        "          \n",
        "agg = vertices_properties.aggregate([0, 0], seqOp, combOp)"
      ],
      "execution_count": 0,
      "outputs": []
    },
    {
      "cell_type": "code",
      "metadata": {
        "id": "g3Y7Jc6klTVS",
        "colab_type": "code",
        "outputId": "2e6e5fa4-a28c-43f5-da82-16bc1cea5643",
        "colab": {
          "base_uri": "https://localhost:8080/",
          "height": 34
        }
      },
      "source": [
        "agg"
      ],
      "execution_count": 0,
      "outputs": [
        {
          "output_type": "execute_result",
          "data": {
            "text/plain": [
              "[281903, 0.5976304608027434]"
            ]
          },
          "metadata": {
            "tags": []
          },
          "execution_count": 15
        }
      ]
    },
    {
      "cell_type": "code",
      "metadata": {
        "id": "QwNyFcTjlyHq",
        "colab_type": "code",
        "colab": {}
      },
      "source": [
        "time.time() - start"
      ],
      "execution_count": 0,
      "outputs": []
    }
  ]
}