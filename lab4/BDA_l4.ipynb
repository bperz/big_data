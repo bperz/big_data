{
  "nbformat": 4,
  "nbformat_minor": 0,
  "metadata": {
    "colab": {
      "name": "BDA-l4.ipynb",
      "provenance": [],
      "collapsed_sections": [],
      "toc_visible": true,
      "include_colab_link": true
    },
    "kernelspec": {
      "name": "python3",
      "display_name": "Python 3"
    }
  },
  "cells": [
    {
      "cell_type": "markdown",
      "metadata": {
        "id": "view-in-github",
        "colab_type": "text"
      },
      "source": [
        "<a href=\"https://colab.research.google.com/github/bperz/big_data/blob/master/lab4/BDA_l4.ipynb\" target=\"_parent\"><img src=\"https://colab.research.google.com/assets/colab-badge.svg\" alt=\"Open In Colab\"/></a>"
      ]
    },
    {
      "cell_type": "code",
      "metadata": {
        "id": "qEQotJiRm7Lr",
        "colab_type": "code",
        "colab": {}
      },
      "source": [
        "from google.colab import drive\n",
        "drive.mount('/gdrive')\n",
        "\n",
        "%cd /gdrive/My\\ Drive\n",
        "%cd BDA\\ resources"
      ],
      "execution_count": 0,
      "outputs": []
    },
    {
      "cell_type": "code",
      "metadata": {
        "id": "BX-zE9iyhRDm",
        "colab_type": "code",
        "colab": {}
      },
      "source": [
        "!apt-get install openjdk-8-jdk-headless -qq > /dev/null\n",
        "#!wget -q http://www-eu.apache.org/dist/spark/spark-2.4.4/spark-2.4.4-bin-hadoop2.7.tgz\n",
        "!tar xf spark-2.4.4-bin-hadoop2.7.tgz\n",
        "!pip install -q findspark"
      ],
      "execution_count": 0,
      "outputs": []
    },
    {
      "cell_type": "code",
      "metadata": {
        "id": "lswa7B06hSsV",
        "colab_type": "code",
        "colab": {}
      },
      "source": [
        "import os\n",
        "os.environ[\"JAVA_HOME\"] = \"/usr/lib/jvm/java-8-openjdk-amd64\"\n",
        "os.environ[\"SPARK_HOME\"] = \"/content/spark-2.4.4-bin-hadoop2.7\""
      ],
      "execution_count": 0,
      "outputs": []
    },
    {
      "cell_type": "code",
      "metadata": {
        "id": "e0urONwIhcca",
        "colab_type": "code",
        "colab": {}
      },
      "source": [
        "import findspark\n",
        "findspark.init(\"spark-2.4.4-bin-hadoop2.7\")# SPARK_HOME\n",
        "# findspark.init(\"/gdrive/My\\ Drive/BDA\\ resources\")\n",
        "from pyspark import SparkContext\n",
        "from pyspark.sql import SparkSession\n",
        "spark = SparkSession.builder.master(\"local[*]\").getOrCreate()\n",
        "sc = SparkContext.getOrCreate()"
      ],
      "execution_count": 0,
      "outputs": []
    },
    {
      "cell_type": "code",
      "metadata": {
        "id": "OZsNQ-m8sChZ",
        "colab_type": "code",
        "colab": {}
      },
      "source": [
        "from wordcloud import WordCloud\n",
        "import matplotlib.pyplot as plt\n",
        "\n",
        "import re, nltk\n",
        "nltk.download('stopwords')"
      ],
      "execution_count": 0,
      "outputs": []
    },
    {
      "cell_type": "markdown",
      "metadata": {
        "id": "S-m5AKJvr03m",
        "colab_type": "text"
      },
      "source": [
        "# Actual work"
      ]
    },
    {
      "cell_type": "markdown",
      "metadata": {
        "id": "4krPwN6--2cw",
        "colab_type": "text"
      },
      "source": [
        "## Task1"
      ]
    },
    {
      "cell_type": "code",
      "metadata": {
        "id": "36SaZpYbiKEx",
        "colab_type": "code",
        "colab": {}
      },
      "source": [
        "def tokenize_and_rm(data, stopWords):\n",
        "  text = re.findall(r\"[a-zA-Z]+\", data)\n",
        "  lst = [word.lower() for word in text if word not in stopWords and len(word) > 1]\n",
        "  return lst"
      ],
      "execution_count": 0,
      "outputs": []
    },
    {
      "cell_type": "code",
      "metadata": {
        "id": "px5Q9rcM0KZz",
        "colab_type": "code",
        "colab": {}
      },
      "source": [
        "stopWords = set(nltk.corpus.stopwords.words('english'))"
      ],
      "execution_count": 0,
      "outputs": []
    },
    {
      "cell_type": "code",
      "metadata": {
        "id": "_-8TZwa4sZ30",
        "colab_type": "code",
        "colab": {}
      },
      "source": [
        "data = spark.read.text(\"summa.txt\")\n",
        "data.show(20)"
      ],
      "execution_count": 0,
      "outputs": []
    },
    {
      "cell_type": "code",
      "metadata": {
        "id": "spkw2B4otoWP",
        "colab_type": "code",
        "colab": {}
      },
      "source": [
        "dataRDD = data.select('value').rdd.flatMap(lambda x: x)\n",
        "dataRDD = dataRDD.map(lambda x: tokenize_and_rm(x, stopWords))"
      ],
      "execution_count": 0,
      "outputs": []
    },
    {
      "cell_type": "code",
      "metadata": {
        "id": "BhEuBjZLytXb",
        "colab_type": "code",
        "colab": {}
      },
      "source": [
        "dataRDD.take(20)\n",
        "# if you want to print whole text\n",
        "# select.collect() "
      ],
      "execution_count": 0,
      "outputs": []
    },
    {
      "cell_type": "code",
      "metadata": {
        "id": "BA6o07eczfry",
        "colab_type": "code",
        "colab": {}
      },
      "source": [
        "filteredRDD = dataRDD.filter(lambda r: r!=[])\n",
        "shingles = filteredRDD.flatMap(lambda line: [(word, 1) for word in line])"
      ],
      "execution_count": 0,
      "outputs": []
    },
    {
      "cell_type": "code",
      "metadata": {
        "id": "eLa60qY6z6Ae",
        "colab_type": "code",
        "colab": {}
      },
      "source": [
        "reduced = shingles.reduceByKey(lambda accum, val: accum+val)"
      ],
      "execution_count": 0,
      "outputs": []
    },
    {
      "cell_type": "code",
      "metadata": {
        "id": "fZzQ0y5U1mtq",
        "colab_type": "code",
        "colab": {}
      },
      "source": [
        "sorted_list = sorted(reduced.collect(), key=lambda x: x[1], reverse=True)"
      ],
      "execution_count": 0,
      "outputs": []
    },
    {
      "cell_type": "code",
      "metadata": {
        "id": "pArg6xI88wII",
        "colab_type": "code",
        "colab": {}
      },
      "source": [
        "cloud_base = {k:v for (k,v) in sorted_list[:80]}"
      ],
      "execution_count": 0,
      "outputs": []
    },
    {
      "cell_type": "code",
      "metadata": {
        "id": "DSFI7WgT6NXI",
        "colab_type": "code",
        "colab": {}
      },
      "source": [
        "cloud = WordCloud(background_color=\"white\", max_words=100, width=800, height=600)"
      ],
      "execution_count": 0,
      "outputs": []
    },
    {
      "cell_type": "code",
      "metadata": {
        "id": "3Dgq31d57T0a",
        "colab_type": "code",
        "colab": {}
      },
      "source": [
        "cloud.generate_from_frequencies(cloud_base)"
      ],
      "execution_count": 0,
      "outputs": []
    },
    {
      "cell_type": "code",
      "metadata": {
        "id": "Js3ARhJ-8S5w",
        "colab_type": "code",
        "colab": {}
      },
      "source": [
        "cloud.to_file('test.png')"
      ],
      "execution_count": 0,
      "outputs": []
    },
    {
      "cell_type": "markdown",
      "metadata": {
        "id": "C46aoPi9-7Jh",
        "colab_type": "text"
      },
      "source": [
        "## Task2"
      ]
    },
    {
      "cell_type": "code",
      "metadata": {
        "id": "ItdguUMbCwUF",
        "colab_type": "code",
        "colab": {}
      },
      "source": [
        "import pandas as pd\n",
        "import numpy as np\n",
        "import time"
      ],
      "execution_count": 0,
      "outputs": []
    },
    {
      "cell_type": "code",
      "metadata": {
        "colab_type": "code",
        "id": "rsIqYsRqA_az",
        "colab": {}
      },
      "source": [
        "data = np.random.randint(low=-32768, high=32768, size=(100, 100), dtype=np.int16)"
      ],
      "execution_count": 0,
      "outputs": []
    },
    {
      "cell_type": "code",
      "metadata": {
        "id": "gPJASZP8Af61",
        "colab_type": "code",
        "colab": {}
      },
      "source": [
        "# df = spark.read.load(\"data.csv\",\n",
        "#                      format=\"csv\", sep=\",\", inferSchema=\"true\")"
      ],
      "execution_count": 0,
      "outputs": []
    },
    {
      "cell_type": "code",
      "metadata": {
        "id": "MVGayGGdBXe3",
        "colab_type": "code",
        "colab": {}
      },
      "source": [
        "rdd = sc.parallelize(data)\n",
        "rdd = rdd.flatMap(lambda x: x).map(lambda x: (x,1))"
      ],
      "execution_count": 0,
      "outputs": []
    },
    {
      "cell_type": "code",
      "metadata": {
        "id": "mbmjsiGhFy_d",
        "colab_type": "code",
        "colab": {}
      },
      "source": [
        "reducedRDD = rdd.reduceByKey(lambda acc, n: acc+n)"
      ],
      "execution_count": 0,
      "outputs": []
    },
    {
      "cell_type": "code",
      "metadata": {
        "id": "A1IiKgp_Yd77",
        "colab_type": "code",
        "colab": {}
      },
      "source": [
        "reducedRDD = reducedRDD.map(lambda x: (int(x[0]), x[1]))"
      ],
      "execution_count": 0,
      "outputs": []
    },
    {
      "cell_type": "code",
      "metadata": {
        "id": "yX35sDlg13Fd",
        "colab_type": "code",
        "colab": {}
      },
      "source": [
        "reducedRDD.take(5)"
      ],
      "execution_count": 0,
      "outputs": []
    },
    {
      "cell_type": "code",
      "metadata": {
        "id": "HprKJ5wmcPYo",
        "colab_type": "code",
        "colab": {}
      },
      "source": [
        "seqOp = (lambda local_result, list_element: [max(local_result[0], list_element[0]),\n",
        "                                             min(local_result[1], list_element[0]),\n",
        "                                             local_result[2]*(local_result[5]/(local_result[5]+list_element[1]))+list_element[0]*(list_element[1]/(local_result[5]+list_element[1])),\n",
        "                                             local_result[3] + [list_element[0]],\n",
        "                                             local_result[4]+1,\n",
        "                                             local_result[5]+list_element[1]])"
      ],
      "execution_count": 0,
      "outputs": []
    },
    {
      "cell_type": "code",
      "metadata": {
        "id": "5Gi840aWfS4X",
        "colab_type": "code",
        "colab": {}
      },
      "source": [
        "combOp = (lambda local_result_1, local_result_2: [max(local_result_1[0], local_result_2[0]), \n",
        "                                                  min(local_result_1[1], local_result_2[1]),\n",
        "                                                  local_result_1[2]*(local_result_1[5]/(local_result_1[5]+local_result_2[5])) + local_result_2[2]*(local_result_2[5]/(local_result_1[5]+local_result_2[5])),                                                \n",
        "                                                  local_result_1[3] + local_result_2[3],\n",
        "                                                  local_result_1[4]+local_result_2[4],\n",
        "                                                  local_result_1[5]+local_result_2[5]])"
      ],
      "execution_count": 0,
      "outputs": []
    },
    {
      "cell_type": "code",
      "metadata": {
        "id": "TOKQioXId07U",
        "colab_type": "code",
        "colab": {}
      },
      "source": [
        "agg = reducedRDD.aggregate([0, 0, 0, [], 0, 0], seqOp, combOp)"
      ],
      "execution_count": 0,
      "outputs": []
    },
    {
      "cell_type": "code",
      "metadata": {
        "id": "Kw1lBsq84Crk",
        "colab_type": "code",
        "colab": {}
      },
      "source": [
        "agg"
      ],
      "execution_count": 0,
      "outputs": []
    },
    {
      "cell_type": "markdown",
      "metadata": {
        "id": "AmQTnbRwV27g",
        "colab_type": "text"
      },
      "source": [
        "## Task3"
      ]
    },
    {
      "cell_type": "code",
      "metadata": {
        "colab_type": "code",
        "id": "Ci9-ycTGWCeJ",
        "colab": {}
      },
      "source": [
        "def tokenize_and_rm(data, stopWords):\n",
        "  text = re.findall(r\"[a-zA-Z]+\", data)\n",
        "  lst = [word.lower() for word in text if word not in stopWords and len(word) > 1]\n",
        "  return lst"
      ],
      "execution_count": 0,
      "outputs": []
    },
    {
      "cell_type": "code",
      "metadata": {
        "colab_type": "code",
        "id": "utR59nevWCeY",
        "colab": {}
      },
      "source": [
        "stopWords = set(nltk.corpus.stopwords.words('english'))"
      ],
      "execution_count": 0,
      "outputs": []
    },
    {
      "cell_type": "code",
      "metadata": {
        "colab_type": "code",
        "id": "UfbrfYCXWCeg",
        "colab": {}
      },
      "source": [
        "with open(\"summa.txt\") as file:\n",
        "  data = file.read()\n",
        "  data = tokenize_and_rm(data, stopWords)\n",
        "\n",
        "data_tuples = [(data[i], data[i+1]) for i in range(len(data) - 1)]"
      ],
      "execution_count": 0,
      "outputs": []
    },
    {
      "cell_type": "code",
      "metadata": {
        "id": "e_CQiTtLWPI0",
        "colab_type": "code",
        "colab": {}
      },
      "source": [
        "dataRDD = sc.parallelize(data_tuples)\n",
        "mapped1 = dataRDD.map(lambda x: (x,1))\n",
        "mapped2 = mapped1.map(lambda x: ((x[0][1], x[0][0]),x[1]))\n",
        "reduced = mapped1.union(mapped2).reduceByKey(lambda acc, n: acc+n)"
      ],
      "execution_count": 0,
      "outputs": []
    },
    {
      "cell_type": "code",
      "metadata": {
        "id": "K_BW-iY33BYi",
        "colab_type": "code",
        "colab": {}
      },
      "source": [
        "reduced_2 = reduced.map(lambda x: (x[0][0], [(x[0][1],x[1])]))"
      ],
      "execution_count": 0,
      "outputs": []
    },
    {
      "cell_type": "code",
      "metadata": {
        "id": "LveVvziDWq0V",
        "colab_type": "code",
        "colab": {}
      },
      "source": [
        "joined = reduced_2.reduceByKey(lambda acc, n: acc + n)"
      ],
      "execution_count": 0,
      "outputs": []
    },
    {
      "cell_type": "code",
      "metadata": {
        "id": "hMdMQHkerGsH",
        "colab_type": "code",
        "colab": {}
      },
      "source": [
        "joined = joined.map(lambda x: (x[0], sorted(x[1],key=lambda y: y[1], reverse=True)[:5]))"
      ],
      "execution_count": 0,
      "outputs": []
    },
    {
      "cell_type": "code",
      "metadata": {
        "id": "jW78DerK5u1o",
        "colab_type": "code",
        "colab": {}
      },
      "source": [
        "joined.take(5)"
      ],
      "execution_count": 0,
      "outputs": []
    },
    {
      "cell_type": "markdown",
      "metadata": {
        "id": "a9S3bRYtlvxg",
        "colab_type": "text"
      },
      "source": [
        "generating random paragraph"
      ]
    },
    {
      "cell_type": "code",
      "metadata": {
        "id": "KFK0EWbH6jdx",
        "colab_type": "code",
        "colab": {}
      },
      "source": [
        "import random"
      ],
      "execution_count": 0,
      "outputs": []
    },
    {
      "cell_type": "code",
      "metadata": {
        "id": "sFcrfRwC4uqx",
        "colab_type": "code",
        "colab": {}
      },
      "source": [
        "word_dict = joined.collectAsMap()"
      ],
      "execution_count": 0,
      "outputs": []
    },
    {
      "cell_type": "code",
      "metadata": {
        "id": "-vD8vOjz58A6",
        "colab_type": "code",
        "colab": {}
      },
      "source": [
        "paragraph = \"the\"\n",
        "prev_word = 'the'\n",
        "length = 30\n",
        "\n",
        "for i in range(length-1):\n",
        "  word = random.choice(word_dict[prev_word])[0]\n",
        "  paragraph += ' ' + word\n",
        "  prev_word = word\n",
        "\n",
        "paragraph"
      ],
      "execution_count": 0,
      "outputs": []
    }
  ]
}